{
 "cells": [
  {
   "cell_type": "markdown",
   "id": "0190ac61-1c75-46c9-9151-c149e8fdbdae",
   "metadata": {},
   "source": [
    "# Assignment 5 - CS 322 Data Science\n",
    "## Text Exploration and Classification with Naive Bayes\n",
    "Complete the tasks outlined in this python notebook."
   ]
  },
  {
   "cell_type": "code",
   "execution_count": 14,
   "id": "4e3d4de0-38a8-4093-b2f8-446c488a2860",
   "metadata": {},
   "outputs": [],
   "source": [
    "# Import all the libraries here"
   ]
  },
  {
   "cell_type": "markdown",
   "id": "a6c2fc77-ee4d-45b1-a36c-bb52595087de",
   "metadata": {},
   "source": [
    "### TASK 1: Load Training Dataset (3 points)\n",
    "Acquire the dataset from the following link.\n",
    "\n",
    "https://www.kaggle.com/datasets/lakshmi25npathi/imdb-dataset-of-50k-movie-reviews\n",
    "\n",
    "Dataset Citation:\n",
    "\n",
    "Andrew L. Maas, Raymond E. Daly, Peter T. Pham, Dan Huang, Andrew Y. Ng, and Christopher Potts. (2011). Learning Word Vectors for Sentiment Analysis. The 49th Annual Meeting of the Association for Computational Linguistics (ACL 2011).\n"
   ]
  },
  {
   "cell_type": "code",
   "execution_count": null,
   "id": "dba89d70-1dfa-4aa5-a3e8-24c260fd2c95",
   "metadata": {},
   "outputs": [],
   "source": []
  },
  {
   "cell_type": "markdown",
   "id": "24e1cbd0-4a46-47cb-96a9-79db9dd9f17f",
   "metadata": {},
   "source": [
    "### TASK 2: Create a binary target column named \"class\" (2 points)\n",
    "\"negative\" -> 0\n",
    "\"positive\" -> 1\n",
    "\n",
    "Hint: Use the apply function."
   ]
  },
  {
   "cell_type": "code",
   "execution_count": null,
   "id": "ff035595-89d8-41b4-8778-8fabbfcbaf88",
   "metadata": {},
   "outputs": [],
   "source": []
  },
  {
   "cell_type": "markdown",
   "id": "5c622207-7420-4bf5-adec-003aa0e510ef",
   "metadata": {},
   "source": [
    "### TASK 3: Explore the data (20 points)\n",
    "Perform exploratory analysis on the text documents. You may reference other people's ideas and code, but must cite what you find.\n",
    "\n",
    "Ideas to consider: Word Cloud, Most Common Words, etc.\n",
    "\n",
    "Note that you may need to install and import additional libraries depending on what analysis you do.\n",
    "\n"
   ]
  },
  {
   "cell_type": "code",
   "execution_count": null,
   "id": "d06dd196-08c5-45a9-9d67-4d9ff1a29981",
   "metadata": {},
   "outputs": [],
   "source": []
  },
  {
   "cell_type": "markdown",
   "id": "e67f9d14-1471-4c05-944e-045945132f26",
   "metadata": {},
   "source": [
    "### TASK 4: Vectorize the Training Data (10 points)\n",
    "Transform the raw text data into vectors. You are encouraged but not required to try complex options.\n",
    "\n",
    "Simple Options:\n",
    "1. Count Vectors\n",
    "2. Binary Vectors\n",
    "3. TFIDF Vectors\n",
    "\n",
    "Example Complex Options:\n",
    "1. Word2Vec (gensim.models.Word2Vec)\n",
    "2. Transformers such as BERT and GPT \n",
    "\n",
    "Example References:\n",
    "https://scikit-learn.org/stable/modules/generated/sklearn.feature_extraction.text.CountVectorizer.html\n",
    "https://pypi.org/project/transformers/"
   ]
  },
  {
   "cell_type": "code",
   "execution_count": null,
   "id": "7a9c3d19-2188-4b29-bb93-42b1074ebfde",
   "metadata": {},
   "outputs": [],
   "source": []
  },
  {
   "cell_type": "markdown",
   "id": "8b4c2833-2a1b-4846-8e10-86242002da15",
   "metadata": {},
   "source": [
    "### TASK 6: Train and Tune Models (10 points)\n",
    "Train and tune multiple models (3+). Try out different vectors. Perform cross-validation to find the optimal model for each kind.\n",
    "\n",
    "Example Models to Consider:\n",
    "https://scikit-learn.org/stable/modules/naive_bayes.html"
   ]
  },
  {
   "cell_type": "code",
   "execution_count": null,
   "id": "8944b972-16e0-4ffb-a5f7-ffa706740c05",
   "metadata": {},
   "outputs": [],
   "source": []
  },
  {
   "cell_type": "markdown",
   "id": "3127b1fc-d9d2-4bb2-878c-bea98a9700e9",
   "metadata": {},
   "source": [
    "### TASK 7: Load, Explore, Preprocess, Vectorize Test Data (5 points)\n",
    "Explore, preprocess, and vectorize the test data **using the exact same models as the training set**. \n",
    "\n",
    "The test dataset will be published after students all write their movie reviews."
   ]
  },
  {
   "cell_type": "code",
   "execution_count": null,
   "id": "ebc44993-5507-492f-b247-a952380e9fbc",
   "metadata": {},
   "outputs": [],
   "source": []
  },
  {
   "cell_type": "markdown",
   "id": "40fb22f6-7c4a-48e1-acee-b997d3d82dc3",
   "metadata": {},
   "source": [
    "### TASK 8: Test the Data and Analyze the Results (10 points)\n",
    "For each model, compute accuracy, precision, recall, f1-score, and the confusion matrix. \n",
    "\n",
    "Compare the model performances based on performance on the testing."
   ]
  },
  {
   "cell_type": "code",
   "execution_count": null,
   "id": "f2cb9912-aa7d-44c7-a153-7410b53d5eeb",
   "metadata": {},
   "outputs": [],
   "source": []
  },
  {
   "cell_type": "code",
   "execution_count": null,
   "id": "b93f6616-8b57-4b81-aa9c-13136316db7b",
   "metadata": {},
   "outputs": [],
   "source": []
  }
 ],
 "metadata": {
  "kernelspec": {
   "display_name": "Python 3",
   "language": "python",
   "name": "python3"
  },
  "language_info": {
   "codemirror_mode": {
    "name": "ipython",
    "version": 3
   },
   "file_extension": ".py",
   "mimetype": "text/x-python",
   "name": "python",
   "nbconvert_exporter": "python",
   "pygments_lexer": "ipython3",
   "version": "3.11.7"
  }
 },
 "nbformat": 4,
 "nbformat_minor": 5
}
