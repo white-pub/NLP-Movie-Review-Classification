{
 "cells": [
  {
   "cell_type": "markdown",
   "id": "35379db4-b95d-4458-b8fa-2252b3c60020",
   "metadata": {},
   "source": [
    "There are student names in the test dataset filename, so i am giving the files a ID, and only leave the ID as new filename. \n",
    "\n",
    "naming rule\n",
    "positive reviews have prefix p\n",
    "start count from 101\n",
    "p101\n",
    "p102\n",
    "...\n",
    "\n",
    "negative review have prefix n\n",
    "其他同\n",
    "\n",
    "我自己留著有完整檔名和ID的檔案，上傳github的東西只有ID"
   ]
  },
  {
   "cell_type": "code",
   "execution_count": 4,
   "id": "fb29180d-e217-4ee3-ab89-e39ccf92b4e1",
   "metadata": {},
   "outputs": [
    {
     "name": "stdout",
     "output_type": "stream",
     "text": [
      "Files in old have been renamed successfully.\n"
     ]
    }
   ],
   "source": [
    "import os\n",
    "import re\n",
    "\n",
    "def rename_files(directory):\n",
    "    # List all files in the directory\n",
    "    files = os.listdir(directory)\n",
    "    \n",
    "    # Sort files to ensure consistent ordering\n",
    "    files.sort()\n",
    "\n",
    "    # Initialize ID counter\n",
    "    id_counter = 101\n",
    "\n",
    "    for filename in files:\n",
    "        # Skip directories\n",
    "        if os.path.isdir(os.path.join(directory, filename)):\n",
    "            continue\n",
    "\n",
    "        # Generate new name with ID prefix\n",
    "        new_name = f'n{id_counter}_{filename}'\n",
    "\n",
    "        # Construct full file paths\n",
    "        old_path = os.path.join(directory, filename)\n",
    "        new_path = os.path.join(directory, new_name)\n",
    "\n",
    "        # Rename the file\n",
    "        os.rename(old_path, new_path)\n",
    "\n",
    "        # Increment ID counter\n",
    "        id_counter += 1\n",
    "\n",
    "    print(f\"Files in {directory} have been renamed successfully.\")\n",
    "\n",
    "# Example usage\n",
    "folder_path = 'old'\n",
    "rename_files(folder_path)\n"
   ]
  },
  {
   "cell_type": "code",
   "execution_count": 8,
   "id": "79dda916-336f-4df2-8c00-198b18ee0c55",
   "metadata": {},
   "outputs": [
    {
     "name": "stdout",
     "output_type": "stream",
     "text": [
      "Files in old have been renamed successfully.\n"
     ]
    }
   ],
   "source": [
    "# only keep file id and file type (.txt)\n",
    "import os\n",
    "import re\n",
    "\n",
    "def rename_files(directory):\n",
    "    # List all files in the directory\n",
    "    files = os.listdir(directory)\n",
    "    \n",
    "    # Sort files to ensure consistent ordering\n",
    "    files.sort()\n",
    "\n",
    "    for filename in files:\n",
    "        # Skip directories\n",
    "        if os.path.isdir(os.path.join(directory, filename)):\n",
    "            continue\n",
    "\n",
    "        # Use regex to extract the prefix (e.g., p1, p2) and keep the file extension\n",
    "        match = re.match(r'(n\\d+)_.*(\\.txt)', filename)\n",
    "        if match:\n",
    "            prefix = match.group(1)  # Extract prefix without the underscore\n",
    "            extension = match.group(2)  # Extract file extension\n",
    "            new_name = f'{prefix}{extension}'\n",
    "\n",
    "            # Construct full file paths\n",
    "            old_path = os.path.join(directory, filename)\n",
    "            new_path = os.path.join(directory, new_name)\n",
    "\n",
    "            # Rename the file\n",
    "            os.rename(old_path, new_path)\n",
    "\n",
    "    print(f\"Files in {directory} have been renamed successfully.\")\n",
    "\n",
    "# Example usage\n",
    "folder_path = 'old'\n",
    "rename_files(folder_path)\n"
   ]
  },
  {
   "cell_type": "code",
   "execution_count": null,
   "id": "d7cb84fd-3c3a-41ae-91ff-310a09068df0",
   "metadata": {},
   "outputs": [],
   "source": [
    "# merge individual txt files into one .csv\n",
    "\n",
    "import os\n",
    "\n",
    "def read_reviews(folder, sentiment):\n",
    "    \"\"\"\n",
    "    Reads all text files in a given folder and creates a list of dictionaries with file information.\n",
    "    \n",
    "    Args:\n",
    "        folder (str): The path to the folder containing the text files.\n",
    "        sentiment (str): The sentiment label (e.g., 'positive', 'negative') to assign to each review.\n",
    "    \n",
    "    Returns:\n",
    "        list: A list of dictionaries, each containing 'ID', 'review', and 'sentiment' keys.\n",
    "    \"\"\"\n",
    "    reviews = []\n",
    "    for filename in os.listdir(folder):\n",
    "        if filename.endswith(\".txt\"):\n",
    "            with open(os.path.join(folder, filename), 'r', encoding='utf-8') as file:\n",
    "                review = file.read().strip()  # Read the entire file content, including multi-line text\n",
    "                reviews.append({'ID': filename, 'review': review, 'sentiment': sentiment})\n",
    "    return reviews\n",
    "\n",
    "# Read positive reviews\n",
    "positive_folder = 'test data/positive_reviews'\n",
    "positive_reviews = read_reviews(positive_folder, 'positive')\n",
    "\n",
    "# Read negative reviews\n",
    "negative_folder = 'test data/negative_reviews'\n",
    "negative_reviews = read_reviews(negative_folder, 'negative')\n",
    "\n",
    "# Combine reviews\n",
    "all_reviews = positive_reviews + negative_reviews\n",
    "\n",
    "# Create DataFrame\n",
    "df = pd.DataFrame(all_reviews)\n",
    "\n",
    "# Save to CSV\n",
    "df.to_csv('test_dataset_reviews.csv', index=False)\n",
    "\n",
    "print(\"Reviews have been successfully saved to test_dataset_reviews.csv\")\n"
   ]
  }
 ],
 "metadata": {
  "kernelspec": {
   "display_name": "Python 3 (ipykernel)",
   "language": "python",
   "name": "python3"
  },
  "language_info": {
   "codemirror_mode": {
    "name": "ipython",
    "version": 3
   },
   "file_extension": ".py",
   "mimetype": "text/x-python",
   "name": "python",
   "nbconvert_exporter": "python",
   "pygments_lexer": "ipython3",
   "version": "3.12.5"
  }
 },
 "nbformat": 4,
 "nbformat_minor": 5
}
