{
 "cells": [
  {
   "cell_type": "code",
   "execution_count": 5,
   "id": "2167ca1f-8c2f-4537-a71d-bd6fd49b20a6",
   "metadata": {
    "execution": {
     "iopub.execute_input": "2024-12-06T22:21:36.813177Z",
     "iopub.status.busy": "2024-12-06T22:21:36.812180Z",
     "iopub.status.idle": "2024-12-06T22:21:36.836657Z",
     "shell.execute_reply": "2024-12-06T22:21:36.834631Z",
     "shell.execute_reply.started": "2024-12-06T22:21:36.813177Z"
    }
   },
   "outputs": [
    {
     "data": {
      "text/plain": [
       "5"
      ]
     },
     "execution_count": 5,
     "metadata": {},
     "output_type": "execute_result"
    }
   ],
   "source": [
    "2+3"
   ]
  },
  {
   "cell_type": "code",
   "execution_count": null,
   "id": "0f00e2d8-4434-403d-8cb6-c6e54546a79f",
   "metadata": {},
   "outputs": [],
   "source": []
  }
 ],
 "metadata": {
  "kernelspec": {
   "display_name": "Python 3 (ipykernel)",
   "language": "python",
   "name": "python3"
  },
  "language_info": {
   "codemirror_mode": {
    "name": "ipython",
    "version": 3
   },
   "file_extension": ".py",
   "mimetype": "text/x-python",
   "name": "python",
   "nbconvert_exporter": "python",
   "pygments_lexer": "ipython3",
   "version": "3.12.5"
  }
 },
 "nbformat": 4,
 "nbformat_minor": 5
}
